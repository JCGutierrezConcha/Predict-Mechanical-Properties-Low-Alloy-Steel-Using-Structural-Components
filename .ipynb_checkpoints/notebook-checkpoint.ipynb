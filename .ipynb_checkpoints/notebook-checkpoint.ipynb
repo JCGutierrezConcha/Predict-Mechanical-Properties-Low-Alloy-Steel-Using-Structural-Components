{
 "cells": [
  {
   "cell_type": "code",
   "execution_count": 1,
   "id": "3fdf05fd",
   "metadata": {},
   "outputs": [],
   "source": [
    "import pandas as pd\n",
    "import numpy as np\n",
    "import matplotlib.pyplot as plt\n",
    "import seaborn as sn\n",
    "import warnings\n",
    "warnings.filterwarnings('ignore')"
   ]
  },
  {
   "cell_type": "markdown",
   "id": "7352c10c",
   "metadata": {},
   "source": [
    "# Load and Data Preparation"
   ]
  },
  {
   "cell_type": "code",
   "execution_count": 2,
   "id": "9961d8ec",
   "metadata": {},
   "outputs": [],
   "source": [
    "df=pd.read_csv('mechanical_properties_low_alloy_steels.csv')"
   ]
  },
  {
   "cell_type": "code",
   "execution_count": 3,
   "id": "4c27f84d",
   "metadata": {},
   "outputs": [
    {
     "name": "stdout",
     "output_type": "stream",
     "text": [
      "<class 'pandas.core.frame.DataFrame'>\n",
      "RangeIndex: 915 entries, 0 to 914\n",
      "Data columns (total 20 columns):\n",
      " #   Column                    Non-Null Count  Dtype  \n",
      "---  ------                    --------------  -----  \n",
      " 0   Alloy code                915 non-null    object \n",
      " 1    C                        915 non-null    float64\n",
      " 2    Si                       915 non-null    float64\n",
      " 3    Mn                       915 non-null    float64\n",
      " 4    P                        915 non-null    float64\n",
      " 5    S                        915 non-null    float64\n",
      " 6    Ni                       915 non-null    float64\n",
      " 7    Cr                       915 non-null    float64\n",
      " 8    Mo                       915 non-null    float64\n",
      " 9    Cu                       915 non-null    float64\n",
      " 10  V                         915 non-null    float64\n",
      " 11   Al                       915 non-null    float64\n",
      " 12   N                        915 non-null    float64\n",
      " 13  Ceq                       915 non-null    float64\n",
      " 14  Nb + Ta                   915 non-null    float64\n",
      " 15   Temperature (°C)         915 non-null    int64  \n",
      " 16   0.2% Proof Stress (MPa)  915 non-null    int64  \n",
      " 17   Tensile Strength (MPa)   915 non-null    int64  \n",
      " 18   Elongation (%)           915 non-null    int64  \n",
      " 19   Reduction in Area (%)    915 non-null    int64  \n",
      "dtypes: float64(14), int64(5), object(1)\n",
      "memory usage: 143.1+ KB\n"
     ]
    }
   ],
   "source": [
    "df.info()"
   ]
  },
  {
   "cell_type": "code",
   "execution_count": 4,
   "id": "5a12a1ab",
   "metadata": {},
   "outputs": [],
   "source": [
    "df.columns = df.columns.str.lower().str.lstrip()\n",
    "df.columns = df.columns.str.replace('0.2% ', '', regex=True)\n",
    "df.columns = df.columns.str.replace('%', 'perc', regex=True)\n",
    "df.columns = df.columns.str.replace('°c', 'celcius', regex=True)\n",
    "df.columns = df.columns.str.replace('+', 'and')\n",
    "df.columns = df.columns.str.replace('(', '')\n",
    "df.columns = df.columns.str.replace(')', '')\n",
    "df.columns = df.columns.str.replace(' ', '_')"
   ]
  },
  {
   "cell_type": "code",
   "execution_count": 5,
   "id": "14477ce7",
   "metadata": {},
   "outputs": [
    {
     "name": "stdout",
     "output_type": "stream",
     "text": [
      "<class 'pandas.core.frame.DataFrame'>\n",
      "RangeIndex: 915 entries, 0 to 914\n",
      "Data columns (total 20 columns):\n",
      " #   Column                  Non-Null Count  Dtype  \n",
      "---  ------                  --------------  -----  \n",
      " 0   alloy_code              915 non-null    object \n",
      " 1   c                       915 non-null    float64\n",
      " 2   si                      915 non-null    float64\n",
      " 3   mn                      915 non-null    float64\n",
      " 4   p                       915 non-null    float64\n",
      " 5   s                       915 non-null    float64\n",
      " 6   ni                      915 non-null    float64\n",
      " 7   cr                      915 non-null    float64\n",
      " 8   mo                      915 non-null    float64\n",
      " 9   cu                      915 non-null    float64\n",
      " 10  v                       915 non-null    float64\n",
      " 11  al                      915 non-null    float64\n",
      " 12  n                       915 non-null    float64\n",
      " 13  ceq                     915 non-null    float64\n",
      " 14  nb_and_ta               915 non-null    float64\n",
      " 15  temperature_celcius     915 non-null    int64  \n",
      " 16  proof_stress_mpa        915 non-null    int64  \n",
      " 17  tensile_strength_mpa    915 non-null    int64  \n",
      " 18  elongation_perc         915 non-null    int64  \n",
      " 19  reduction_in_area_perc  915 non-null    int64  \n",
      "dtypes: float64(14), int64(5), object(1)\n",
      "memory usage: 143.1+ KB\n"
     ]
    }
   ],
   "source": [
    "df.info()"
   ]
  },
  {
   "cell_type": "code",
   "execution_count": 6,
   "id": "ef53a153",
   "metadata": {},
   "outputs": [
    {
     "name": "stdout",
     "output_type": "stream",
     "text": [
      "Null values in the dataset: 0\n",
      "Duplicates values in the dataset: 0\n"
     ]
    }
   ],
   "source": [
    "print(f'Null values in the dataset: {df.isnull().sum().sum()}')\n",
    "print(f'Duplicates values in the dataset: {df.duplicated().sum().sum()}')"
   ]
  },
  {
   "cell_type": "markdown",
   "id": "0a5cd04b",
   "metadata": {},
   "source": [
    "# Exploratory Data Analysis"
   ]
  },
  {
   "cell_type": "code",
   "execution_count": 7,
   "id": "a63e73ff",
   "metadata": {},
   "outputs": [
    {
     "data": {
      "text/html": [
       "<div>\n",
       "<style scoped>\n",
       "    .dataframe tbody tr th:only-of-type {\n",
       "        vertical-align: middle;\n",
       "    }\n",
       "\n",
       "    .dataframe tbody tr th {\n",
       "        vertical-align: top;\n",
       "    }\n",
       "\n",
       "    .dataframe thead th {\n",
       "        text-align: right;\n",
       "    }\n",
       "</style>\n",
       "<table border=\"1\" class=\"dataframe\">\n",
       "  <thead>\n",
       "    <tr style=\"text-align: right;\">\n",
       "      <th></th>\n",
       "      <th>alloy_code</th>\n",
       "      <th>c</th>\n",
       "      <th>si</th>\n",
       "      <th>mn</th>\n",
       "      <th>p</th>\n",
       "      <th>s</th>\n",
       "      <th>ni</th>\n",
       "      <th>cr</th>\n",
       "      <th>mo</th>\n",
       "      <th>cu</th>\n",
       "      <th>v</th>\n",
       "      <th>al</th>\n",
       "      <th>n</th>\n",
       "      <th>ceq</th>\n",
       "      <th>nb_and_ta</th>\n",
       "      <th>temperature_celcius</th>\n",
       "      <th>proof_stress_mpa</th>\n",
       "      <th>tensile_strength_mpa</th>\n",
       "      <th>elongation_perc</th>\n",
       "      <th>reduction_in_area_perc</th>\n",
       "    </tr>\n",
       "  </thead>\n",
       "  <tbody>\n",
       "    <tr>\n",
       "      <th>0</th>\n",
       "      <td>MBB</td>\n",
       "      <td>0.12</td>\n",
       "      <td>0.36</td>\n",
       "      <td>0.52</td>\n",
       "      <td>0.009</td>\n",
       "      <td>0.003</td>\n",
       "      <td>0.089</td>\n",
       "      <td>0.97</td>\n",
       "      <td>0.61</td>\n",
       "      <td>0.04</td>\n",
       "      <td>0.0</td>\n",
       "      <td>0.003</td>\n",
       "      <td>0.0066</td>\n",
       "      <td>0.0</td>\n",
       "      <td>0.0</td>\n",
       "      <td>27</td>\n",
       "      <td>342</td>\n",
       "      <td>490</td>\n",
       "      <td>30</td>\n",
       "      <td>71</td>\n",
       "    </tr>\n",
       "    <tr>\n",
       "      <th>1</th>\n",
       "      <td>MBB</td>\n",
       "      <td>0.12</td>\n",
       "      <td>0.36</td>\n",
       "      <td>0.52</td>\n",
       "      <td>0.009</td>\n",
       "      <td>0.003</td>\n",
       "      <td>0.089</td>\n",
       "      <td>0.97</td>\n",
       "      <td>0.61</td>\n",
       "      <td>0.04</td>\n",
       "      <td>0.0</td>\n",
       "      <td>0.003</td>\n",
       "      <td>0.0066</td>\n",
       "      <td>0.0</td>\n",
       "      <td>0.0</td>\n",
       "      <td>100</td>\n",
       "      <td>338</td>\n",
       "      <td>454</td>\n",
       "      <td>27</td>\n",
       "      <td>72</td>\n",
       "    </tr>\n",
       "    <tr>\n",
       "      <th>2</th>\n",
       "      <td>MBB</td>\n",
       "      <td>0.12</td>\n",
       "      <td>0.36</td>\n",
       "      <td>0.52</td>\n",
       "      <td>0.009</td>\n",
       "      <td>0.003</td>\n",
       "      <td>0.089</td>\n",
       "      <td>0.97</td>\n",
       "      <td>0.61</td>\n",
       "      <td>0.04</td>\n",
       "      <td>0.0</td>\n",
       "      <td>0.003</td>\n",
       "      <td>0.0066</td>\n",
       "      <td>0.0</td>\n",
       "      <td>0.0</td>\n",
       "      <td>200</td>\n",
       "      <td>337</td>\n",
       "      <td>465</td>\n",
       "      <td>23</td>\n",
       "      <td>69</td>\n",
       "    </tr>\n",
       "    <tr>\n",
       "      <th>3</th>\n",
       "      <td>MBB</td>\n",
       "      <td>0.12</td>\n",
       "      <td>0.36</td>\n",
       "      <td>0.52</td>\n",
       "      <td>0.009</td>\n",
       "      <td>0.003</td>\n",
       "      <td>0.089</td>\n",
       "      <td>0.97</td>\n",
       "      <td>0.61</td>\n",
       "      <td>0.04</td>\n",
       "      <td>0.0</td>\n",
       "      <td>0.003</td>\n",
       "      <td>0.0066</td>\n",
       "      <td>0.0</td>\n",
       "      <td>0.0</td>\n",
       "      <td>300</td>\n",
       "      <td>346</td>\n",
       "      <td>495</td>\n",
       "      <td>21</td>\n",
       "      <td>70</td>\n",
       "    </tr>\n",
       "    <tr>\n",
       "      <th>4</th>\n",
       "      <td>MBB</td>\n",
       "      <td>0.12</td>\n",
       "      <td>0.36</td>\n",
       "      <td>0.52</td>\n",
       "      <td>0.009</td>\n",
       "      <td>0.003</td>\n",
       "      <td>0.089</td>\n",
       "      <td>0.97</td>\n",
       "      <td>0.61</td>\n",
       "      <td>0.04</td>\n",
       "      <td>0.0</td>\n",
       "      <td>0.003</td>\n",
       "      <td>0.0066</td>\n",
       "      <td>0.0</td>\n",
       "      <td>0.0</td>\n",
       "      <td>400</td>\n",
       "      <td>316</td>\n",
       "      <td>489</td>\n",
       "      <td>26</td>\n",
       "      <td>79</td>\n",
       "    </tr>\n",
       "    <tr>\n",
       "      <th>5</th>\n",
       "      <td>MBB</td>\n",
       "      <td>0.12</td>\n",
       "      <td>0.36</td>\n",
       "      <td>0.52</td>\n",
       "      <td>0.009</td>\n",
       "      <td>0.003</td>\n",
       "      <td>0.089</td>\n",
       "      <td>0.97</td>\n",
       "      <td>0.61</td>\n",
       "      <td>0.04</td>\n",
       "      <td>0.0</td>\n",
       "      <td>0.003</td>\n",
       "      <td>0.0066</td>\n",
       "      <td>0.0</td>\n",
       "      <td>0.0</td>\n",
       "      <td>450</td>\n",
       "      <td>287</td>\n",
       "      <td>461</td>\n",
       "      <td>25</td>\n",
       "      <td>81</td>\n",
       "    </tr>\n",
       "    <tr>\n",
       "      <th>6</th>\n",
       "      <td>MBB</td>\n",
       "      <td>0.12</td>\n",
       "      <td>0.36</td>\n",
       "      <td>0.52</td>\n",
       "      <td>0.009</td>\n",
       "      <td>0.003</td>\n",
       "      <td>0.089</td>\n",
       "      <td>0.97</td>\n",
       "      <td>0.61</td>\n",
       "      <td>0.04</td>\n",
       "      <td>0.0</td>\n",
       "      <td>0.003</td>\n",
       "      <td>0.0066</td>\n",
       "      <td>0.0</td>\n",
       "      <td>0.0</td>\n",
       "      <td>500</td>\n",
       "      <td>274</td>\n",
       "      <td>431</td>\n",
       "      <td>28</td>\n",
       "      <td>85</td>\n",
       "    </tr>\n",
       "    <tr>\n",
       "      <th>7</th>\n",
       "      <td>MBB</td>\n",
       "      <td>0.12</td>\n",
       "      <td>0.36</td>\n",
       "      <td>0.52</td>\n",
       "      <td>0.009</td>\n",
       "      <td>0.003</td>\n",
       "      <td>0.089</td>\n",
       "      <td>0.97</td>\n",
       "      <td>0.61</td>\n",
       "      <td>0.04</td>\n",
       "      <td>0.0</td>\n",
       "      <td>0.003</td>\n",
       "      <td>0.0066</td>\n",
       "      <td>0.0</td>\n",
       "      <td>0.0</td>\n",
       "      <td>550</td>\n",
       "      <td>262</td>\n",
       "      <td>387</td>\n",
       "      <td>32</td>\n",
       "      <td>87</td>\n",
       "    </tr>\n",
       "    <tr>\n",
       "      <th>8</th>\n",
       "      <td>MBB</td>\n",
       "      <td>0.12</td>\n",
       "      <td>0.36</td>\n",
       "      <td>0.52</td>\n",
       "      <td>0.009</td>\n",
       "      <td>0.003</td>\n",
       "      <td>0.089</td>\n",
       "      <td>0.97</td>\n",
       "      <td>0.61</td>\n",
       "      <td>0.04</td>\n",
       "      <td>0.0</td>\n",
       "      <td>0.003</td>\n",
       "      <td>0.0066</td>\n",
       "      <td>0.0</td>\n",
       "      <td>0.0</td>\n",
       "      <td>600</td>\n",
       "      <td>220</td>\n",
       "      <td>314</td>\n",
       "      <td>42</td>\n",
       "      <td>88</td>\n",
       "    </tr>\n",
       "    <tr>\n",
       "      <th>9</th>\n",
       "      <td>MBB</td>\n",
       "      <td>0.12</td>\n",
       "      <td>0.36</td>\n",
       "      <td>0.52</td>\n",
       "      <td>0.009</td>\n",
       "      <td>0.003</td>\n",
       "      <td>0.089</td>\n",
       "      <td>0.97</td>\n",
       "      <td>0.61</td>\n",
       "      <td>0.04</td>\n",
       "      <td>0.0</td>\n",
       "      <td>0.003</td>\n",
       "      <td>0.0066</td>\n",
       "      <td>0.0</td>\n",
       "      <td>0.0</td>\n",
       "      <td>650</td>\n",
       "      <td>152</td>\n",
       "      <td>226</td>\n",
       "      <td>59</td>\n",
       "      <td>92</td>\n",
       "    </tr>\n",
       "    <tr>\n",
       "      <th>10</th>\n",
       "      <td>MBC</td>\n",
       "      <td>0.09</td>\n",
       "      <td>0.37</td>\n",
       "      <td>0.49</td>\n",
       "      <td>0.006</td>\n",
       "      <td>0.005</td>\n",
       "      <td>0.055</td>\n",
       "      <td>0.98</td>\n",
       "      <td>0.57</td>\n",
       "      <td>0.07</td>\n",
       "      <td>0.0</td>\n",
       "      <td>0.005</td>\n",
       "      <td>0.0080</td>\n",
       "      <td>0.0</td>\n",
       "      <td>0.0</td>\n",
       "      <td>27</td>\n",
       "      <td>310</td>\n",
       "      <td>463</td>\n",
       "      <td>34</td>\n",
       "      <td>76</td>\n",
       "    </tr>\n",
       "    <tr>\n",
       "      <th>11</th>\n",
       "      <td>MBC</td>\n",
       "      <td>0.09</td>\n",
       "      <td>0.37</td>\n",
       "      <td>0.49</td>\n",
       "      <td>0.006</td>\n",
       "      <td>0.005</td>\n",
       "      <td>0.055</td>\n",
       "      <td>0.98</td>\n",
       "      <td>0.57</td>\n",
       "      <td>0.07</td>\n",
       "      <td>0.0</td>\n",
       "      <td>0.005</td>\n",
       "      <td>0.0080</td>\n",
       "      <td>0.0</td>\n",
       "      <td>0.0</td>\n",
       "      <td>100</td>\n",
       "      <td>285</td>\n",
       "      <td>427</td>\n",
       "      <td>31</td>\n",
       "      <td>79</td>\n",
       "    </tr>\n",
       "    <tr>\n",
       "      <th>12</th>\n",
       "      <td>MBC</td>\n",
       "      <td>0.09</td>\n",
       "      <td>0.37</td>\n",
       "      <td>0.49</td>\n",
       "      <td>0.006</td>\n",
       "      <td>0.005</td>\n",
       "      <td>0.055</td>\n",
       "      <td>0.98</td>\n",
       "      <td>0.57</td>\n",
       "      <td>0.07</td>\n",
       "      <td>0.0</td>\n",
       "      <td>0.005</td>\n",
       "      <td>0.0080</td>\n",
       "      <td>0.0</td>\n",
       "      <td>0.0</td>\n",
       "      <td>200</td>\n",
       "      <td>296</td>\n",
       "      <td>439</td>\n",
       "      <td>25</td>\n",
       "      <td>77</td>\n",
       "    </tr>\n",
       "    <tr>\n",
       "      <th>13</th>\n",
       "      <td>MBC</td>\n",
       "      <td>0.09</td>\n",
       "      <td>0.37</td>\n",
       "      <td>0.49</td>\n",
       "      <td>0.006</td>\n",
       "      <td>0.005</td>\n",
       "      <td>0.055</td>\n",
       "      <td>0.98</td>\n",
       "      <td>0.57</td>\n",
       "      <td>0.07</td>\n",
       "      <td>0.0</td>\n",
       "      <td>0.005</td>\n",
       "      <td>0.0080</td>\n",
       "      <td>0.0</td>\n",
       "      <td>0.0</td>\n",
       "      <td>300</td>\n",
       "      <td>265</td>\n",
       "      <td>471</td>\n",
       "      <td>24</td>\n",
       "      <td>76</td>\n",
       "    </tr>\n",
       "    <tr>\n",
       "      <th>14</th>\n",
       "      <td>MBC</td>\n",
       "      <td>0.09</td>\n",
       "      <td>0.37</td>\n",
       "      <td>0.49</td>\n",
       "      <td>0.006</td>\n",
       "      <td>0.005</td>\n",
       "      <td>0.055</td>\n",
       "      <td>0.98</td>\n",
       "      <td>0.57</td>\n",
       "      <td>0.07</td>\n",
       "      <td>0.0</td>\n",
       "      <td>0.005</td>\n",
       "      <td>0.0080</td>\n",
       "      <td>0.0</td>\n",
       "      <td>0.0</td>\n",
       "      <td>400</td>\n",
       "      <td>257</td>\n",
       "      <td>472</td>\n",
       "      <td>28</td>\n",
       "      <td>78</td>\n",
       "    </tr>\n",
       "    <tr>\n",
       "      <th>15</th>\n",
       "      <td>MBC</td>\n",
       "      <td>0.09</td>\n",
       "      <td>0.37</td>\n",
       "      <td>0.49</td>\n",
       "      <td>0.006</td>\n",
       "      <td>0.005</td>\n",
       "      <td>0.055</td>\n",
       "      <td>0.98</td>\n",
       "      <td>0.57</td>\n",
       "      <td>0.07</td>\n",
       "      <td>0.0</td>\n",
       "      <td>0.005</td>\n",
       "      <td>0.0080</td>\n",
       "      <td>0.0</td>\n",
       "      <td>0.0</td>\n",
       "      <td>450</td>\n",
       "      <td>240</td>\n",
       "      <td>451</td>\n",
       "      <td>26</td>\n",
       "      <td>80</td>\n",
       "    </tr>\n",
       "    <tr>\n",
       "      <th>16</th>\n",
       "      <td>MBC</td>\n",
       "      <td>0.09</td>\n",
       "      <td>0.37</td>\n",
       "      <td>0.49</td>\n",
       "      <td>0.006</td>\n",
       "      <td>0.005</td>\n",
       "      <td>0.055</td>\n",
       "      <td>0.98</td>\n",
       "      <td>0.57</td>\n",
       "      <td>0.07</td>\n",
       "      <td>0.0</td>\n",
       "      <td>0.005</td>\n",
       "      <td>0.0080</td>\n",
       "      <td>0.0</td>\n",
       "      <td>0.0</td>\n",
       "      <td>500</td>\n",
       "      <td>232</td>\n",
       "      <td>423</td>\n",
       "      <td>28</td>\n",
       "      <td>84</td>\n",
       "    </tr>\n",
       "    <tr>\n",
       "      <th>17</th>\n",
       "      <td>MBC</td>\n",
       "      <td>0.09</td>\n",
       "      <td>0.37</td>\n",
       "      <td>0.49</td>\n",
       "      <td>0.006</td>\n",
       "      <td>0.005</td>\n",
       "      <td>0.055</td>\n",
       "      <td>0.98</td>\n",
       "      <td>0.57</td>\n",
       "      <td>0.07</td>\n",
       "      <td>0.0</td>\n",
       "      <td>0.005</td>\n",
       "      <td>0.0080</td>\n",
       "      <td>0.0</td>\n",
       "      <td>0.0</td>\n",
       "      <td>550</td>\n",
       "      <td>207</td>\n",
       "      <td>367</td>\n",
       "      <td>34</td>\n",
       "      <td>86</td>\n",
       "    </tr>\n",
       "    <tr>\n",
       "      <th>18</th>\n",
       "      <td>MBC</td>\n",
       "      <td>0.09</td>\n",
       "      <td>0.37</td>\n",
       "      <td>0.49</td>\n",
       "      <td>0.006</td>\n",
       "      <td>0.005</td>\n",
       "      <td>0.055</td>\n",
       "      <td>0.98</td>\n",
       "      <td>0.57</td>\n",
       "      <td>0.07</td>\n",
       "      <td>0.0</td>\n",
       "      <td>0.005</td>\n",
       "      <td>0.0080</td>\n",
       "      <td>0.0</td>\n",
       "      <td>0.0</td>\n",
       "      <td>600</td>\n",
       "      <td>176</td>\n",
       "      <td>297</td>\n",
       "      <td>44</td>\n",
       "      <td>89</td>\n",
       "    </tr>\n",
       "    <tr>\n",
       "      <th>19</th>\n",
       "      <td>MBC</td>\n",
       "      <td>0.09</td>\n",
       "      <td>0.37</td>\n",
       "      <td>0.49</td>\n",
       "      <td>0.006</td>\n",
       "      <td>0.005</td>\n",
       "      <td>0.055</td>\n",
       "      <td>0.98</td>\n",
       "      <td>0.57</td>\n",
       "      <td>0.07</td>\n",
       "      <td>0.0</td>\n",
       "      <td>0.005</td>\n",
       "      <td>0.0080</td>\n",
       "      <td>0.0</td>\n",
       "      <td>0.0</td>\n",
       "      <td>650</td>\n",
       "      <td>132</td>\n",
       "      <td>205</td>\n",
       "      <td>67</td>\n",
       "      <td>92</td>\n",
       "    </tr>\n",
       "  </tbody>\n",
       "</table>\n",
       "</div>"
      ],
      "text/plain": [
       "   alloy_code     c    si    mn      p      s     ni    cr    mo    cu    v  \\\n",
       "0         MBB  0.12  0.36  0.52  0.009  0.003  0.089  0.97  0.61  0.04  0.0   \n",
       "1         MBB  0.12  0.36  0.52  0.009  0.003  0.089  0.97  0.61  0.04  0.0   \n",
       "2         MBB  0.12  0.36  0.52  0.009  0.003  0.089  0.97  0.61  0.04  0.0   \n",
       "3         MBB  0.12  0.36  0.52  0.009  0.003  0.089  0.97  0.61  0.04  0.0   \n",
       "4         MBB  0.12  0.36  0.52  0.009  0.003  0.089  0.97  0.61  0.04  0.0   \n",
       "5         MBB  0.12  0.36  0.52  0.009  0.003  0.089  0.97  0.61  0.04  0.0   \n",
       "6         MBB  0.12  0.36  0.52  0.009  0.003  0.089  0.97  0.61  0.04  0.0   \n",
       "7         MBB  0.12  0.36  0.52  0.009  0.003  0.089  0.97  0.61  0.04  0.0   \n",
       "8         MBB  0.12  0.36  0.52  0.009  0.003  0.089  0.97  0.61  0.04  0.0   \n",
       "9         MBB  0.12  0.36  0.52  0.009  0.003  0.089  0.97  0.61  0.04  0.0   \n",
       "10        MBC  0.09  0.37  0.49  0.006  0.005  0.055  0.98  0.57  0.07  0.0   \n",
       "11        MBC  0.09  0.37  0.49  0.006  0.005  0.055  0.98  0.57  0.07  0.0   \n",
       "12        MBC  0.09  0.37  0.49  0.006  0.005  0.055  0.98  0.57  0.07  0.0   \n",
       "13        MBC  0.09  0.37  0.49  0.006  0.005  0.055  0.98  0.57  0.07  0.0   \n",
       "14        MBC  0.09  0.37  0.49  0.006  0.005  0.055  0.98  0.57  0.07  0.0   \n",
       "15        MBC  0.09  0.37  0.49  0.006  0.005  0.055  0.98  0.57  0.07  0.0   \n",
       "16        MBC  0.09  0.37  0.49  0.006  0.005  0.055  0.98  0.57  0.07  0.0   \n",
       "17        MBC  0.09  0.37  0.49  0.006  0.005  0.055  0.98  0.57  0.07  0.0   \n",
       "18        MBC  0.09  0.37  0.49  0.006  0.005  0.055  0.98  0.57  0.07  0.0   \n",
       "19        MBC  0.09  0.37  0.49  0.006  0.005  0.055  0.98  0.57  0.07  0.0   \n",
       "\n",
       "       al       n  ceq  nb_and_ta  temperature_celcius  proof_stress_mpa  \\\n",
       "0   0.003  0.0066  0.0        0.0                   27               342   \n",
       "1   0.003  0.0066  0.0        0.0                  100               338   \n",
       "2   0.003  0.0066  0.0        0.0                  200               337   \n",
       "3   0.003  0.0066  0.0        0.0                  300               346   \n",
       "4   0.003  0.0066  0.0        0.0                  400               316   \n",
       "5   0.003  0.0066  0.0        0.0                  450               287   \n",
       "6   0.003  0.0066  0.0        0.0                  500               274   \n",
       "7   0.003  0.0066  0.0        0.0                  550               262   \n",
       "8   0.003  0.0066  0.0        0.0                  600               220   \n",
       "9   0.003  0.0066  0.0        0.0                  650               152   \n",
       "10  0.005  0.0080  0.0        0.0                   27               310   \n",
       "11  0.005  0.0080  0.0        0.0                  100               285   \n",
       "12  0.005  0.0080  0.0        0.0                  200               296   \n",
       "13  0.005  0.0080  0.0        0.0                  300               265   \n",
       "14  0.005  0.0080  0.0        0.0                  400               257   \n",
       "15  0.005  0.0080  0.0        0.0                  450               240   \n",
       "16  0.005  0.0080  0.0        0.0                  500               232   \n",
       "17  0.005  0.0080  0.0        0.0                  550               207   \n",
       "18  0.005  0.0080  0.0        0.0                  600               176   \n",
       "19  0.005  0.0080  0.0        0.0                  650               132   \n",
       "\n",
       "    tensile_strength_mpa  elongation_perc  reduction_in_area_perc  \n",
       "0                    490               30                      71  \n",
       "1                    454               27                      72  \n",
       "2                    465               23                      69  \n",
       "3                    495               21                      70  \n",
       "4                    489               26                      79  \n",
       "5                    461               25                      81  \n",
       "6                    431               28                      85  \n",
       "7                    387               32                      87  \n",
       "8                    314               42                      88  \n",
       "9                    226               59                      92  \n",
       "10                   463               34                      76  \n",
       "11                   427               31                      79  \n",
       "12                   439               25                      77  \n",
       "13                   471               24                      76  \n",
       "14                   472               28                      78  \n",
       "15                   451               26                      80  \n",
       "16                   423               28                      84  \n",
       "17                   367               34                      86  \n",
       "18                   297               44                      89  \n",
       "19                   205               67                      92  "
      ]
     },
     "execution_count": 7,
     "metadata": {},
     "output_type": "execute_result"
    }
   ],
   "source": [
    "df.head(20)"
   ]
  },
  {
   "cell_type": "markdown",
   "id": "0ef1aa7c",
   "metadata": {},
   "source": [
    "The first column of our dataframe is an alloy code. So the first 10 rows of dataframe contains values of tensile stress for the first material (MBB) with different temperatures, the next 10 rows - for the second material and so on.\n",
    "\n",
    "Alloy code is very important for engineering task, but in the ML model it brings no actual sence. That is why it's reasonably to exclude \"alloy_code\" column out of the dataframe."
   ]
  },
  {
   "cell_type": "code",
   "execution_count": 8,
   "id": "58f719db",
   "metadata": {},
   "outputs": [],
   "source": [
    "del df['alloy_code']"
   ]
  },
  {
   "cell_type": "code",
   "execution_count": 9,
   "id": "02e20a47",
   "metadata": {},
   "outputs": [],
   "source": [
    "# Create list of feature columns names\n",
    "features = ['c', 'si', 'mn', 'p', 's', 'ni', 'cr', 'mo', 'cu', 'v', 'al', 'n','ceq','nb_and_ta', 'temperature_celcius']\n",
    "\n",
    "# Create list of target columns names\n",
    "\n",
    "targets = ['proof_stress_mpa', 'tensile_strength_mpa', 'elongation_perc', 'reduction_in_area_perc']"
   ]
  },
  {
   "cell_type": "markdown",
   "id": "6593c47c",
   "metadata": {},
   "source": [
    "## Target Distribution"
   ]
  },
  {
   "cell_type": "code",
   "execution_count": 10,
   "id": "4714bb9e",
   "metadata": {},
   "outputs": [
    {
     "data": {
      "image/png": "[encoded data removed]",
      "text/plain": [
       "<Figure size 576x576 with 4 Axes>"
      ]
     },
     "metadata": {
      "needs_background": "light"
     },
     "output_type": "display_data"
    }
   ],
   "source": [
    "plt.figure(figsize=(8,8))\n",
    "for ind, value in enumerate(df[targets]):\n",
    "    plt.subplot(2, 2, ind + 1)\n",
    "    plt.title(value)\n",
    "    sn.distplot(df[targets].loc[:, value], axlabel=False)\n",
    "    plt.tight_layout()"
   ]
  },
  {
   "cell_type": "markdown",
   "id": "a6e5bed6",
   "metadata": {},
   "source": [
    "We see that distributions of our target variables are quite similar to normal, except 'tensile_strength_mpa'.\n",
    "\n",
    "We will analyze this target variable with more detail.\n",
    "\n",
    "When looking at the graph it seems that we are in the presence of a value out of range.\n",
    "\n",
    "We will use boxplot to detect outliers. "
   ]
  },
  {
   "cell_type": "code",
   "execution_count": 11,
   "id": "46615938",
   "metadata": {},
   "outputs": [
    {
     "data": {
      "image/png": "[encoded data removed]",
      "text/plain": [
       "<Figure size 432x288 with 1 Axes>"
      ]
     },
     "metadata": {
      "needs_background": "light"
     },
     "output_type": "display_data"
    }
   ],
   "source": [
    "sn.boxplot(df['tensile_strength_mpa'])\n",
    "plt.show()"
   ]
  },
  {
   "cell_type": "markdown",
   "id": "f1252464",
   "metadata": {},
   "source": [
    "In the boxplot graph we observed an outlier in range over 1000."
   ]
  },
  {
   "cell_type": "code",
   "execution_count": 12,
   "id": "4d4c7657",
   "metadata": {},
   "outputs": [],
   "source": [
    "# Identification and elimination of outlier\n",
    "tensile_strength_outlier = df[df['tensile_strength_mpa']>1000]\n",
    "ind_outlier = tensile_strength_outlier.index\n",
    "df.drop(ind_outlier, inplace=True)"
   ]
  },
  {
   "cell_type": "code",
   "execution_count": 13,
   "id": "27e31e06",
   "metadata": {},
   "outputs": [
    {
     "data": {
      "image/png": "[encoded data removed]",
      "text/plain": [
       "<Figure size 576x576 with 4 Axes>"
      ]
     },
     "metadata": {
      "needs_background": "light"
     },
     "output_type": "display_data"
    }
   ],
   "source": [
    "plt.figure(figsize=(8,8))\n",
    "for ind, value in enumerate(df[targets]):\n",
    "    plt.subplot(2, 2, ind + 1)\n",
    "    plt.title(value)\n",
    "    sn.distplot(df[targets].loc[:, value], axlabel=False)\n",
    "    plt.tight_layout()"
   ]
  },
  {
   "cell_type": "markdown",
   "id": "0a70f5e0",
   "metadata": {},
   "source": [
    "Now we see that distributions of our target variables are quite similar to normal."
   ]
  },
  {
   "cell_type": "markdown",
   "id": "50552b7f",
   "metadata": {},
   "source": [
    "## Correlation between Target Variable and Features"
   ]
  },
  {
   "cell_type": "code",
   "execution_count": 14,
   "id": "b6f7ab6c",
   "metadata": {},
   "outputs": [
    {
     "name": "stdout",
     "output_type": "stream",
     "text": [
      "Correlation with proof_stress_mpa\n",
      "v                      0.635526\n",
      "ni                     0.475950\n",
      "temperature_celcius    0.428288\n",
      "mn                     0.400552\n",
      "mo                     0.359735\n",
      "ceq                    0.316934\n",
      "si                     0.268330\n",
      "al                     0.258192\n",
      "cr                     0.253236\n",
      "cu                     0.199562\n",
      "c                      0.198514\n",
      "p                      0.043561\n",
      "nb_and_ta              0.041105\n",
      "n                      0.023834\n",
      "s                      0.018728\n",
      "dtype: float64\n",
      "Correlation with tensile_strength_mpa\n",
      "temperature_celcius    0.610238\n",
      "v                      0.440069\n",
      "ni                     0.282226\n",
      "mo                     0.249959\n",
      "mn                     0.244372\n",
      "c                      0.231118\n",
      "cr                     0.157497\n",
      "ceq                    0.153707\n",
      "al                     0.116161\n",
      "nb_and_ta              0.105791\n",
      "si                     0.089367\n",
      "cu                     0.088668\n",
      "n                      0.044098\n",
      "s                      0.008561\n",
      "p                      0.008113\n",
      "dtype: float64\n",
      "Correlation with elongation_perc\n",
      "v                      0.499233\n",
      "mo                     0.410182\n",
      "temperature_celcius    0.408071\n",
      "cr                     0.301270\n",
      "ni                     0.292716\n",
      "cu                     0.177636\n",
      "c                      0.148890\n",
      "p                      0.128672\n",
      "mn                     0.124240\n",
      "si                     0.122950\n",
      "n                      0.106081\n",
      "s                      0.039977\n",
      "ceq                    0.020590\n",
      "nb_and_ta              0.008721\n",
      "al                     0.002434\n",
      "dtype: float64\n",
      "Correlation with reduction_in_area_perc\n",
      "temperature_celcius    0.567988\n",
      "c                      0.279092\n",
      "ceq                    0.230704\n",
      "al                     0.229700\n",
      "v                      0.203168\n",
      "cu                     0.177663\n",
      "mo                     0.169626\n",
      "si                     0.165579\n",
      "s                      0.122928\n",
      "mn                     0.102368\n",
      "n                      0.079572\n",
      "nb_and_ta              0.076869\n",
      "cr                     0.049078\n",
      "p                      0.040132\n",
      "ni                     0.020420\n",
      "dtype: float64\n"
     ]
    }
   ],
   "source": [
    "for t in targets:\n",
    "    print(\"Correlation with {}\".format(t))\n",
    "    cor = df[features].corrwith(df[t]).abs().sort_values(ascending=False)\n",
    "    print(cor)"
   ]
  },
  {
   "cell_type": "markdown",
   "id": "1ebb82d7",
   "metadata": {},
   "source": [
    "## Features Distribution"
   ]
  },
  {
   "cell_type": "code",
   "execution_count": 15,
   "id": "e43ec31b",
   "metadata": {},
   "outputs": [
    {
     "data": {
      "image/png": "[encoded data removed]",
      "text/plain": [
       "<Figure size 720x1440 with 15 Axes>"
      ]
     },
     "metadata": {
      "needs_background": "light"
     },
     "output_type": "display_data"
    }
   ],
   "source": [
    "plt.figure(figsize=(10,20))\n",
    "for ind, value in enumerate(df[features]):\n",
    "    plt.subplot(8, 2, ind + 1)\n",
    "    plt.title(value)\n",
    "    sn.distplot(df[features].loc[:, value], axlabel=False)\n",
    "    plt.tight_layout()"
   ]
  },
  {
   "cell_type": "markdown",
   "id": "de51e31d",
   "metadata": {},
   "source": [
    "The feature 'nb_and_ta' has 97.59% of a single value. We will eliminate this feature"
   ]
  },
  {
   "cell_type": "code",
   "execution_count": 16,
   "id": "50bfa2f6",
   "metadata": {},
   "outputs": [
    {
     "data": {
      "text/plain": [
       "nb_and_ta\n",
       "0.0000    97.592998\n",
       "0.0017     2.407002\n",
       "Name: proportion, dtype: float64"
      ]
     },
     "execution_count": 16,
     "metadata": {},
     "output_type": "execute_result"
    }
   ],
   "source": [
    "df['nb_and_ta'].value_counts('%').head()*100"
   ]
  },
  {
   "cell_type": "code",
   "execution_count": 17,
   "id": "de5493a5",
   "metadata": {},
   "outputs": [],
   "source": [
    "del df['nb_and_ta']"
   ]
  },
  {
   "cell_type": "markdown",
   "id": "606f5b55",
   "metadata": {},
   "source": [
    "The feature 'ceq' has 77.02% of a single value. We will analize this feature with more detail."
   ]
  },
  {
   "cell_type": "code",
   "execution_count": 18,
   "id": "4d6b1353",
   "metadata": {},
   "outputs": [
    {
     "data": {
      "text/plain": [
       "ceq\n",
       "0.000    77.024070\n",
       "0.390     3.282276\n",
       "0.429     3.282276\n",
       "0.436     2.188184\n",
       "0.387     2.188184\n",
       "Name: proportion, dtype: float64"
      ]
     },
     "execution_count": 18,
     "metadata": {},
     "output_type": "execute_result"
    }
   ],
   "source": [
    "df['ceq'].value_counts('%').head()*100"
   ]
  },
  {
   "cell_type": "markdown",
   "id": "50fea951",
   "metadata": {},
   "source": [
    "\"Ceq\" is an coefficient which is called \"Carbon equivalent\". It assess the effect of composition while welding of low alloy steels. \n",
    "\n",
    "It is calculated by the formula\n",
    "$$\n",
    "  Ceq = C + \\frac{Si}{24} + \\frac{Mn}{6} + \\frac{Ni}{40} + \\frac{Cr}{5} + \\frac{Mo}{4} + \\frac{V}{14}\n",
    "$$ \n",
    "\n",
    "Source: https://www.kobelco-welding.jp/education-center/abc/ABC_2007-01.html\n"
   ]
  },
  {
   "cell_type": "markdown",
   "id": "62673a96",
   "metadata": {},
   "source": [
    "So \"ceq\" is calculated from other features of our dataset and we will eliminate it."
   ]
  },
  {
   "cell_type": "code",
   "execution_count": 19,
   "id": "fd4e1c97",
   "metadata": {},
   "outputs": [],
   "source": [
    "del df['ceq']"
   ]
  },
  {
   "cell_type": "markdown",
   "id": "86fb81c7",
   "metadata": {},
   "source": [
    "### Correlation between features"
   ]
  },
  {
   "cell_type": "code",
   "execution_count": 20,
   "id": "8492f525",
   "metadata": {},
   "outputs": [],
   "source": [
    "features = ['c', 'si', 'mn', 'p', 's', 'ni', 'cr', 'mo', 'cu', 'v', 'al', 'n', 'temperature_celcius']"
   ]
  },
  {
   "cell_type": "code",
   "execution_count": 21,
   "id": "ce51880f",
   "metadata": {},
   "outputs": [
    {
     "data": {
      "image/png": "[encoded data removed]",
      "text/plain": [
       "<Figure size 864x864 with 2 Axes>"
      ]
     },
     "metadata": {
      "needs_background": "light"
     },
     "output_type": "display_data"
    }
   ],
   "source": [
    "corr = df[features].corr(method = \"spearman\")\n",
    "plt.figure(figsize = (12, 12))\n",
    "mask = np.zeros_like(corr)\n",
    "mask[np.triu_indices_from(mask)] = True\n",
    "sn.heatmap(corr, mask = mask, cmap = \"magma\", annot = True, annot_kws = {'size': 9})\n",
    "plt.title(\"Full dataset correlation matrix\", fontsize = 12, fontweight = \"bold\")\n",
    "plt.show()"
   ]
  },
  {
   "cell_type": "markdown",
   "id": "c848030d",
   "metadata": {},
   "source": [
    "Since the correlation values between any two variables is not greater than 90%, none of the attributes were removed."
   ]
  },
  {
   "cell_type": "markdown",
   "id": "f1470305",
   "metadata": {},
   "source": [
    "# Train Models"
   ]
  },
  {
   "cell_type": "markdown",
   "id": "0f7d0bf3",
   "metadata": {},
   "source": [
    "First we will define a metric to evaluate the performance of the models.\n",
    "\n",
    "As a base model we will train Linear Regression.\n",
    "\n",
    "Next we will train the following 3 models to improve the result of the evaluation metric:\n",
    "\n",
    "- Random Forest Regressor\n",
    "- XGBoost Regressor\n",
    "- Neural Network\n",
    "\n",
    "We will do the training with cross validation.\n",
    "\n",
    "Later we will fine-tune the models."
   ]
  },
  {
   "cell_type": "code",
   "execution_count": 22,
   "id": "acb2c83d",
   "metadata": {},
   "outputs": [],
   "source": [
    "from sklearn.model_selection import train_test_split\n",
    "from sklearn.model_selection import KFold\n",
    "\n",
    "from sklearn.linear_model import LinearRegression\n",
    "from sklearn.ensemble import RandomForestRegressor\n",
    "from xgboost import XGBRegressor"
   ]
  },
  {
   "cell_type": "code",
   "execution_count": 23,
   "id": "086d9abf",
   "metadata": {},
   "outputs": [],
   "source": [
    "from keras.models import Sequential\n",
    "from keras.layers import Dense\n",
    "from keras.optimizers import Adam\n",
    "from tensorflow.keras.layers import Dropout"
   ]
  },
  {
   "cell_type": "code",
   "execution_count": 24,
   "id": "57a68f16",
   "metadata": {},
   "outputs": [],
   "source": [
    "df_full_train, df_test = train_test_split(df, test_size=0.2, random_state=1)"
   ]
  },
  {
   "cell_type": "markdown",
   "id": "7812520b",
   "metadata": {},
   "source": [
    "## Define metric"
   ]
  },
  {
   "cell_type": "markdown",
   "id": "68b2760b",
   "metadata": {},
   "source": [
    " We will use MAPE (Mean absolute percentage error) metrics for this purpose. It is calculated as \n",
    "\n",
    "$$\n",
    "MAPE (y, \\hat{y})  =  \\frac{1}{n} \\sum_{i=1}^{n}\\frac{|y_{i} - \\hat{y_{i}}|}{y_{i}}\n",
    "$$\n",
    "\n",
    "Then we will calculate total error estimation as mean of MAPE for all target variables."
   ]
  },
  {
   "cell_type": "code",
   "execution_count": 25,
   "id": "7971d5ee",
   "metadata": {},
   "outputs": [],
   "source": [
    "from sklearn.metrics import mean_absolute_percentage_error\n",
    "def mape_metric(y_val, y_pred):\n",
    "    dict_mape = {}\n",
    "    for i in range(4):\n",
    "        dict_mape[targets[i]] = mean_absolute_percentage_error(y_val[:, i], y_pred[:, i])\n",
    "    mean_mape = np.mean(list(dict_mape.values()))\n",
    "    return mean_mape"
   ]
  },
  {
   "cell_type": "markdown",
   "id": "77d4d654",
   "metadata": {},
   "source": [
    "## Train Linear Regression"
   ]
  },
  {
   "cell_type": "code",
   "execution_count": 26,
   "id": "0d69304d",
   "metadata": {},
   "outputs": [
    {
     "name": "stdout",
     "output_type": "stream",
     "text": [
      "0.163\n",
      "0.153\n",
      "0.139\n",
      "0.140\n",
      "0.131\n",
      "0.145 +- 0.011\n"
     ]
    }
   ],
   "source": [
    "kfold = KFold(n_splits= 5, shuffle=True, random_state=1)\n",
    "\n",
    "scores = []\n",
    "\n",
    "linreg = LinearRegression()\n",
    "\n",
    "for train_idx, val_idx in kfold.split(df_full_train):\n",
    "    df_train = df_full_train.iloc[train_idx]\n",
    "    df_val = df_full_train.iloc[val_idx]\n",
    "\n",
    "    y_train = df_train[targets].values\n",
    "    y_val = df_val[targets].values\n",
    "\n",
    "    linreg.fit(df_train[features], y_train)\n",
    "    y_pred = linreg.predict(df_val[features])\n",
    "    metric= mape_metric(y_val, y_pred)\n",
    "    print('%.3f' % (metric))\n",
    "    scores.append(metric)\n",
    "\n",
    "print('%.3f +- %.3f' % (np.mean(scores), np.std(scores)))"
   ]
  },
  {
   "cell_type": "markdown",
   "id": "524321f3",
   "metadata": {},
   "source": [
    "## Train Random Forest"
   ]
  },
  {
   "cell_type": "code",
   "execution_count": 27,
   "id": "853f90e3",
   "metadata": {},
   "outputs": [
    {
     "name": "stdout",
     "output_type": "stream",
     "text": [
      "0.089\n",
      "0.075\n",
      "0.058\n",
      "0.062\n",
      "0.057\n",
      "0.068 +- 0.012\n"
     ]
    }
   ],
   "source": [
    "kfold = KFold(n_splits= 5, shuffle=True, random_state=1)\n",
    "\n",
    "scores = []\n",
    "\n",
    "rfr= RandomForestRegressor(random_state = 42)\n",
    "\n",
    "for train_idx, val_idx in kfold.split(df_full_train):\n",
    "    df_train = df_full_train.iloc[train_idx]\n",
    "    df_val = df_full_train.iloc[val_idx]\n",
    "\n",
    "    y_train = df_train[targets].values\n",
    "    y_val = df_val[targets].values\n",
    "\n",
    "    rfr.fit(df_train[features], y_train)\n",
    "    y_pred = rfr.predict(df_val[features])\n",
    "    metric= mape_metric(y_val, y_pred)\n",
    "    print('%.3f' % (metric))\n",
    "    scores.append(metric)\n",
    "\n",
    "print('%.3f +- %.3f' % (np.mean(scores), np.std(scores)))"
   ]
  },
  {
   "cell_type": "markdown",
   "id": "db710e93",
   "metadata": {},
   "source": [
    "## Train XGBoost"
   ]
  },
  {
   "cell_type": "code",
   "execution_count": 28,
   "id": "c414b1cc",
   "metadata": {},
   "outputs": [
    {
     "name": "stdout",
     "output_type": "stream",
     "text": [
      "0.075\n",
      "0.063\n",
      "0.050\n",
      "0.053\n",
      "0.048\n",
      "0.058 +- 0.010\n"
     ]
    }
   ],
   "source": [
    "kfold = KFold(n_splits= 5, shuffle=True, random_state=1)\n",
    "\n",
    "scores = []\n",
    "\n",
    "xgb= XGBRegressor(random_state = 42)\n",
    "\n",
    "for train_idx, val_idx in kfold.split(df_full_train):\n",
    "    df_train = df_full_train.iloc[train_idx]\n",
    "    df_val = df_full_train.iloc[val_idx]\n",
    "\n",
    "    y_train = df_train[targets].values\n",
    "    y_val = df_val[targets].values\n",
    "\n",
    "    xgb.fit(df_train[features], y_train)\n",
    "    y_pred = xgb.predict(df_val[features])\n",
    "    metric= mape_metric(y_val, y_pred)\n",
    "    print('%.3f' % (metric))\n",
    "    scores.append(metric)\n",
    "\n",
    "print('%.3f +- %.3f' % (np.mean(scores), np.std(scores)))"
   ]
  },
  {
   "cell_type": "markdown",
   "id": "f399e475",
   "metadata": {},
   "source": [
    "## Train Neural Network"
   ]
  },
  {
   "cell_type": "markdown",
   "id": "11bec739",
   "metadata": {},
   "source": [
    "We will build simple neural network, which consists of 3 dense layers:\n",
    "\n",
    "The first one gets input data, the second one is a internal layer and third one gives output values.\n",
    "\n",
    "Also we will add dropout layer to avoid overfitting in the model. Let's set dropout_rate=0.2"
   ]
  },
  {
   "cell_type": "code",
   "execution_count": 29,
   "id": "7d76ca70",
   "metadata": {},
   "outputs": [
    {
     "name": "stdout",
     "output_type": "stream",
     "text": [
      "0.175\n",
      "0.125\n",
      "0.115\n",
      "0.119\n",
      "0.102\n",
      "0.127 +- 0.025\n"
     ]
    }
   ],
   "source": [
    "kfold = KFold(n_splits= 5, shuffle=True, random_state=1)\n",
    "\n",
    "scores = []\n",
    "\n",
    "n_inputs = df_full_train[features].shape[1]\n",
    "n_outputs = df_full_train[targets].shape[1]\n",
    "loss = 'mape'\n",
    "optimizer = Adam()\n",
    "\n",
    "model = Sequential()\n",
    "model.add(Dense(128, input_dim=n_inputs, kernel_initializer='he_uniform', activation='relu'))\n",
    "model.add(Dropout(0.2))\n",
    "model.add(Dense(64, kernel_initializer='he_uniform', activation='relu'))\n",
    "model.add(Dense(n_outputs))\n",
    "model.compile(loss=loss, optimizer=optimizer)\n",
    "\n",
    "for train_idx, val_idx in kfold.split(df_full_train):\n",
    "    df_train = df_full_train.iloc[train_idx]\n",
    "    df_val = df_full_train.iloc[val_idx]\n",
    "\n",
    "    y_train = df_train[targets].values\n",
    "    y_val = df_val[targets].values\n",
    "\n",
    "    model.fit(df_train[features], y_train, verbose = 0, epochs=300)\n",
    "    metric= model.evaluate(df_val[features], y_val, verbose=0) / 100    \n",
    "    print('%.3f' % (metric))\n",
    "    scores.append(metric)\n",
    "\n",
    "print('%.3f +- %.3f' % (np.mean(scores), np.std(scores)))"
   ]
  },
  {
   "cell_type": "markdown",
   "id": "cbb95cc6",
   "metadata": {},
   "source": [
    "The base model (Linear Regression) obtains a mape metric = 0.145.\n",
    "\n",
    "In second place appears Neural Network with a mape metric = 0.127\n",
    "\n",
    "In third place Randon Forest obtains a mape metric = 0.068.\n",
    "\n",
    "The best model is XGBoost with a mape metric = 0.058\n",
    "\n",
    "The models were trained with default hyperparameters.\n",
    "\n",
    "In the next section we will tunning the hyperparameters to improve the performance of the models."
   ]
  },
  {
   "cell_type": "markdown",
   "id": "3bd6d877",
   "metadata": {},
   "source": [
    "# Model Tuning"
   ]
  },
  {
   "cell_type": "code",
   "execution_count": 30,
   "id": "e8fbd1bf",
   "metadata": {},
   "outputs": [],
   "source": [
    "df_train, df_val = train_test_split(df_full_train, test_size=0.25, random_state=1)\n",
    "\n",
    "df_train = df_train.reset_index(drop=True)\n",
    "df_val = df_val.reset_index(drop=True)\n",
    "df_test = df_test.reset_index(drop=True)\n",
    "\n",
    "y_train = df_train[targets].values\n",
    "y_val = df_val[targets].values\n",
    "y_test = df_test[targets].values\n",
    "\n",
    "df_train.drop(targets, axis=1, inplace=True)\n",
    "df_val.drop(targets, axis=1, inplace=True)\n",
    "df_test.drop(targets, axis=1, inplace=True)"
   ]
  },
  {
   "cell_type": "markdown",
   "id": "c1805f1c",
   "metadata": {},
   "source": [
    "## Random Forest"
   ]
  },
  {
   "cell_type": "code",
   "execution_count": 31,
   "id": "a095e4a0",
   "metadata": {},
   "outputs": [
    {
     "name": "stdout",
     "output_type": "stream",
     "text": [
      "0.087\n"
     ]
    }
   ],
   "source": [
    "rfr = RandomForestRegressor(random_state=42)\n",
    "rfr.fit(df_train, y_train)\n",
    "y_pred = rfr.predict(df_val)\n",
    "metric= mape_metric(y_val, y_pred)\n",
    "print('%.3f' % (metric))"
   ]
  },
  {
   "cell_type": "markdown",
   "id": "d8cdd6b1",
   "metadata": {},
   "source": [
    "### Tuning max_depth"
   ]
  },
  {
   "cell_type": "code",
   "execution_count": 32,
   "id": "8ff0fe44",
   "metadata": {},
   "outputs": [],
   "source": [
    "scores = []\n",
    "\n",
    "for d in [1, 5, 10, 15, 20]:\n",
    "    for n in range(10, 201, 10):\n",
    "        rfr = RandomForestRegressor(n_estimators=n, max_depth=d, random_state=42)\n",
    "        rfr.fit(df_train, y_train)\n",
    "        y_pred = rfr.predict(df_val)\n",
    "        metric= mape_metric(y_val, y_pred)\n",
    "        scores.append((d, n, metric)) "
   ]
  },
  {
   "cell_type": "code",
   "execution_count": 33,
   "id": "47fe2fbb",
   "metadata": {},
   "outputs": [],
   "source": [
    "columns = ['max_depth', 'n_estimators', 'mean_mape']\n",
    "df_scores = pd.DataFrame(scores, columns=columns)"
   ]
  },
  {
   "cell_type": "code",
   "execution_count": 34,
   "id": "ab63e2bc",
   "metadata": {},
   "outputs": [
    {
     "data": {
      "image/png": "[encoded data removed]",
      "text/plain": [
       "<Figure size 576x576 with 1 Axes>"
      ]
     },
     "metadata": {
      "needs_background": "light"
     },
     "output_type": "display_data"
    }
   ],
   "source": [
    "plt.figure(figsize=(8,8))\n",
    "for d in [1, 5, 10, 15, 20]:\n",
    "    df_subset = df_scores[df_scores.max_depth == d]\n",
    "    \n",
    "    plt.plot(df_subset.n_estimators, df_subset.mean_mape,\n",
    "             label='max_depth=%d' % d)\n",
    "\n",
    "plt.legend()\n",
    "plt.show()"
   ]
  },
  {
   "cell_type": "code",
   "execution_count": 35,
   "id": "97bab1f3",
   "metadata": {},
   "outputs": [
    {
     "data": {
      "text/html": [
       "<div>\n",
       "<style scoped>\n",
       "    .dataframe tbody tr th:only-of-type {\n",
       "        vertical-align: middle;\n",
       "    }\n",
       "\n",
       "    .dataframe tbody tr th {\n",
       "        vertical-align: top;\n",
       "    }\n",
       "\n",
       "    .dataframe thead th {\n",
       "        text-align: right;\n",
       "    }\n",
       "</style>\n",
       "<table border=\"1\" class=\"dataframe\">\n",
       "  <thead>\n",
       "    <tr style=\"text-align: right;\">\n",
       "      <th></th>\n",
       "      <th>max_depth</th>\n",
       "      <th>n_estimators</th>\n",
       "      <th>mean_mape</th>\n",
       "    </tr>\n",
       "  </thead>\n",
       "  <tbody>\n",
       "    <tr>\n",
       "      <th>71</th>\n",
       "      <td>15</td>\n",
       "      <td>120</td>\n",
       "      <td>0.086649</td>\n",
       "    </tr>\n",
       "  </tbody>\n",
       "</table>\n",
       "</div>"
      ],
      "text/plain": [
       "    max_depth  n_estimators  mean_mape\n",
       "71         15           120   0.086649"
      ]
     },
     "execution_count": 35,
     "metadata": {},
     "output_type": "execute_result"
    }
   ],
   "source": [
    "df_scores[df_scores['mean_mape']== df_scores['mean_mape'].min()]"
   ]
  },
  {
   "cell_type": "markdown",
   "id": "f2445354",
   "metadata": {},
   "source": [
    "We will choose **max_depth=15**"
   ]
  },
  {
   "cell_type": "markdown",
   "id": "df634cc8",
   "metadata": {},
   "source": [
    "### Tuning min_samples_leaf"
   ]
  },
  {
   "cell_type": "code",
   "execution_count": 36,
   "id": "32343d27",
   "metadata": {},
   "outputs": [],
   "source": [
    "scores = []\n",
    "depth=15\n",
    "for s in [1, 3, 5, 7, 10]:\n",
    "    for n in range(10, 201, 10):\n",
    "        rfr = RandomForestRegressor(n_estimators=n, max_depth=depth, min_samples_leaf=s, random_state=42)\n",
    "        rfr.fit(df_train, y_train)\n",
    "        y_pred = rfr.predict(df_val)\n",
    "        metric= mape_metric(y_val, y_pred)\n",
    "        scores.append((s, n, metric)) "
   ]
  },
  {
   "cell_type": "code",
   "execution_count": 37,
   "id": "366e93e7",
   "metadata": {},
   "outputs": [],
   "source": [
    "columns = ['min_samples_leaf', 'n_estimators', 'mean_mape']\n",
    "df_scores = pd.DataFrame(scores, columns=columns)"
   ]
  },
  {
   "cell_type": "code",
   "execution_count": 38,
   "id": "38e353e9",
   "metadata": {},
   "outputs": [
    {
     "data": {
      "image/png": "[encoded data removed]",
      "text/plain": [
       "<Figure size 576x576 with 1 Axes>"
      ]
     },
     "metadata": {
      "needs_background": "light"
     },
     "output_type": "display_data"
    }
   ],
   "source": [
    "plt.figure(figsize=(8,8))\n",
    "for s in [1, 3, 5, 7, 10]:\n",
    "    df_subset = df_scores[df_scores.min_samples_leaf == s]\n",
    "    \n",
    "    plt.plot(df_subset.n_estimators, df_subset.mean_mape,\n",
    "             label='min_samples_leaf=%s' % s)\n",
    "\n",
    "plt.legend()\n",
    "plt.show()"
   ]
  },
  {
   "cell_type": "markdown",
   "id": "753705be",
   "metadata": {},
   "source": [
    "We will set **mean_samples_leaf = 1**"
   ]
  },
  {
   "cell_type": "markdown",
   "id": "c708374b",
   "metadata": {},
   "source": [
    "### Tuning n_estimators"
   ]
  },
  {
   "cell_type": "code",
   "execution_count": 39,
   "id": "d498ee96",
   "metadata": {},
   "outputs": [],
   "source": [
    "scores = []\n",
    "depth=15\n",
    "msl=1\n",
    "for n in range(10, 201, 10):\n",
    "    rfr = RandomForestRegressor(n_estimators=n, max_depth=depth, min_samples_leaf=msl, random_state=42)\n",
    "    rfr.fit(df_train, y_train)\n",
    "    y_pred = rfr.predict(df_val)\n",
    "    metric= mape_metric(y_val, y_pred)\n",
    "    scores.append((n, metric))"
   ]
  },
  {
   "cell_type": "code",
   "execution_count": 40,
   "id": "67f0755d",
   "metadata": {},
   "outputs": [
    {
     "data": {
      "text/html": [
       "<div>\n",
       "<style scoped>\n",
       "    .dataframe tbody tr th:only-of-type {\n",
       "        vertical-align: middle;\n",
       "    }\n",
       "\n",
       "    .dataframe tbody tr th {\n",
       "        vertical-align: top;\n",
       "    }\n",
       "\n",
       "    .dataframe thead th {\n",
       "        text-align: right;\n",
       "    }\n",
       "</style>\n",
       "<table border=\"1\" class=\"dataframe\">\n",
       "  <thead>\n",
       "    <tr style=\"text-align: right;\">\n",
       "      <th></th>\n",
       "      <th>n_estimators</th>\n",
       "      <th>mean_mape</th>\n",
       "    </tr>\n",
       "  </thead>\n",
       "  <tbody>\n",
       "    <tr>\n",
       "      <th>11</th>\n",
       "      <td>120</td>\n",
       "      <td>0.086649</td>\n",
       "    </tr>\n",
       "  </tbody>\n",
       "</table>\n",
       "</div>"
      ],
      "text/plain": [
       "    n_estimators  mean_mape\n",
       "11           120   0.086649"
      ]
     },
     "execution_count": 40,
     "metadata": {},
     "output_type": "execute_result"
    }
   ],
   "source": [
    "columns = ['n_estimators', 'mean_mape']\n",
    "df_scores = pd.DataFrame(scores, columns=columns)\n",
    "df_scores[df_scores['mean_mape']== df_scores['mean_mape'].min()]"
   ]
  },
  {
   "cell_type": "markdown",
   "id": "e411196c",
   "metadata": {},
   "source": [
    "### Train model with new hyperparameters"
   ]
  },
  {
   "cell_type": "code",
   "execution_count": 41,
   "id": "7edc3484",
   "metadata": {},
   "outputs": [
    {
     "name": "stdout",
     "output_type": "stream",
     "text": [
      "0.087\n"
     ]
    }
   ],
   "source": [
    "rfr = RandomForestRegressor(n_estimators=120, max_depth=15, min_samples_leaf=1, random_state=42)\n",
    "rfr.fit(df_train, y_train)\n",
    "y_pred = rfr.predict(df_val)\n",
    "metric= mape_metric(y_val, y_pred)\n",
    "print('%.3f' % (metric))"
   ]
  },
  {
   "cell_type": "markdown",
   "id": "02f4eb0e",
   "metadata": {},
   "source": [
    "## XGBoost"
   ]
  },
  {
   "cell_type": "code",
   "execution_count": 42,
   "id": "8f285c28",
   "metadata": {},
   "outputs": [
    {
     "name": "stdout",
     "output_type": "stream",
     "text": [
      "0.071\n"
     ]
    }
   ],
   "source": [
    "xgb= XGBRegressor(random_state = 42)\n",
    "xgb.fit(df_train, y_train)\n",
    "y_pred = xgb.predict(df_val)\n",
    "metric= mape_metric(y_val, y_pred)\n",
    "print('%.3f' % (metric))"
   ]
  },
  {
   "cell_type": "markdown",
   "id": "b44a61f6",
   "metadata": {},
   "source": [
    "### Tuning max_depth"
   ]
  },
  {
   "cell_type": "code",
   "execution_count": 43,
   "id": "d96a5699",
   "metadata": {},
   "outputs": [],
   "source": [
    "scores = []\n",
    "\n",
    "for d in [1, 5, 10, 15, 20]:\n",
    "    for n in range(10, 201, 10):\n",
    "        xgb= XGBRegressor(n_estimators=n, max_depth=d, random_state=42)\n",
    "        xgb.fit(df_train, y_train)\n",
    "        y_pred = xgb.predict(df_val)\n",
    "        metric= mape_metric(y_val, y_pred)\n",
    "        scores.append((d, n, metric)) "
   ]
  },
  {
   "cell_type": "code",
   "execution_count": 44,
   "id": "6a279648",
   "metadata": {},
   "outputs": [],
   "source": [
    "columns = ['max_depth', 'n_estimators', 'mean_mape']\n",
    "df_scores = pd.DataFrame(scores, columns=columns)"
   ]
  },
  {
   "cell_type": "code",
   "execution_count": 45,
   "id": "e1362a7f",
   "metadata": {},
   "outputs": [
    {
     "data": {
      "image/png": "[encoded data removed]",
      "text/plain": [
       "<Figure size 576x576 with 1 Axes>"
      ]
     },
     "metadata": {
      "needs_background": "light"
     },
     "output_type": "display_data"
    }
   ],
   "source": [
    "plt.figure(figsize=(8,8))\n",
    "for d in [1, 5, 10, 15, 20]:\n",
    "    df_subset = df_scores[df_scores.max_depth == d]\n",
    "    \n",
    "    plt.plot(df_subset.n_estimators, df_subset.mean_mape,\n",
    "             label='max_depth=%d' % d)\n",
    "\n",
    "plt.legend()\n",
    "plt.show()"
   ]
  },
  {
   "cell_type": "markdown",
   "id": "ceb53b73",
   "metadata": {},
   "source": [
    "We will choose **max_depth= 5**"
   ]
  },
  {
   "cell_type": "markdown",
   "id": "29ad113d",
   "metadata": {},
   "source": [
    "### Tuning eta"
   ]
  },
  {
   "cell_type": "code",
   "execution_count": 46,
   "id": "0b727c09",
   "metadata": {},
   "outputs": [],
   "source": [
    "scores = []\n",
    "depth=5\n",
    "for e in [0.05, 0.1, 0.2, 0.3, 0.5]:\n",
    "    for n in range(10, 201, 10):\n",
    "        xgb= XGBRegressor(n_estimators=n, max_depth=depth, eta=e, random_state=42)\n",
    "        xgb.fit(df_train, y_train)\n",
    "        y_pred = xgb.predict(df_val)\n",
    "        metric= mape_metric(y_val, y_pred)\n",
    "        scores.append((e, n, metric))"
   ]
  },
  {
   "cell_type": "code",
   "execution_count": 47,
   "id": "c6b50fc7",
   "metadata": {},
   "outputs": [],
   "source": [
    "columns = ['eta', 'n_estimators', 'mean_mape']\n",
    "df_scores = pd.DataFrame(scores, columns=columns)"
   ]
  },
  {
   "cell_type": "code",
   "execution_count": 48,
   "id": "42aeb86d",
   "metadata": {},
   "outputs": [
    {
     "data": {
      "image/png": "[encoded data removed]",
      "text/plain": [
       "<Figure size 576x576 with 1 Axes>"
      ]
     },
     "metadata": {
      "needs_background": "light"
     },
     "output_type": "display_data"
    }
   ],
   "source": [
    "plt.figure(figsize=(8,8))\n",
    "for e in [0.05, 0.1, 0.2, 0.3, 0.5]:\n",
    "    df_subset = df_scores[df_scores.eta == e]\n",
    "    \n",
    "    plt.plot(df_subset.n_estimators, df_subset.mean_mape,\n",
    "             label='eta=%e' % e)\n",
    "\n",
    "plt.legend()\n",
    "plt.show()"
   ]
  },
  {
   "cell_type": "code",
   "execution_count": 49,
   "id": "6d4923db",
   "metadata": {},
   "outputs": [
    {
     "data": {
      "text/html": [
       "<div>\n",
       "<style scoped>\n",
       "    .dataframe tbody tr th:only-of-type {\n",
       "        vertical-align: middle;\n",
       "    }\n",
       "\n",
       "    .dataframe tbody tr th {\n",
       "        vertical-align: top;\n",
       "    }\n",
       "\n",
       "    .dataframe thead th {\n",
       "        text-align: right;\n",
       "    }\n",
       "</style>\n",
       "<table border=\"1\" class=\"dataframe\">\n",
       "  <thead>\n",
       "    <tr style=\"text-align: right;\">\n",
       "      <th></th>\n",
       "      <th>eta</th>\n",
       "      <th>n_estimators</th>\n",
       "      <th>mean_mape</th>\n",
       "    </tr>\n",
       "  </thead>\n",
       "  <tbody>\n",
       "    <tr>\n",
       "      <th>57</th>\n",
       "      <td>0.2</td>\n",
       "      <td>180</td>\n",
       "      <td>0.069494</td>\n",
       "    </tr>\n",
       "  </tbody>\n",
       "</table>\n",
       "</div>"
      ],
      "text/plain": [
       "    eta  n_estimators  mean_mape\n",
       "57  0.2           180   0.069494"
      ]
     },
     "execution_count": 49,
     "metadata": {},
     "output_type": "execute_result"
    }
   ],
   "source": [
    "df_scores[df_scores['mean_mape']== df_scores['mean_mape'].min()]"
   ]
  },
  {
   "cell_type": "markdown",
   "id": "933a73aa",
   "metadata": {},
   "source": [
    "We will choose **eta=0.2**"
   ]
  },
  {
   "cell_type": "markdown",
   "id": "18b33e40",
   "metadata": {},
   "source": [
    "### Tuning n_estimators"
   ]
  },
  {
   "cell_type": "code",
   "execution_count": 50,
   "id": "bc40f832",
   "metadata": {},
   "outputs": [],
   "source": [
    "scores = []\n",
    "depth=5\n",
    "lr=0.2\n",
    "for n in range(10, 201, 10):\n",
    "    xgb= XGBRegressor(n_estimators=n, max_depth=depth, eta=lr, random_state=42)\n",
    "    xgb.fit(df_train, y_train)\n",
    "    y_pred = xgb.predict(df_val)\n",
    "    metric= mape_metric(y_val, y_pred)\n",
    "    scores.append((n, metric))"
   ]
  },
  {
   "cell_type": "code",
   "execution_count": 51,
   "id": "142024ce",
   "metadata": {},
   "outputs": [
    {
     "data": {
      "text/html": [
       "<div>\n",
       "<style scoped>\n",
       "    .dataframe tbody tr th:only-of-type {\n",
       "        vertical-align: middle;\n",
       "    }\n",
       "\n",
       "    .dataframe tbody tr th {\n",
       "        vertical-align: top;\n",
       "    }\n",
       "\n",
       "    .dataframe thead th {\n",
       "        text-align: right;\n",
       "    }\n",
       "</style>\n",
       "<table border=\"1\" class=\"dataframe\">\n",
       "  <thead>\n",
       "    <tr style=\"text-align: right;\">\n",
       "      <th></th>\n",
       "      <th>n_estimators</th>\n",
       "      <th>mean_mape</th>\n",
       "    </tr>\n",
       "  </thead>\n",
       "  <tbody>\n",
       "    <tr>\n",
       "      <th>17</th>\n",
       "      <td>180</td>\n",
       "      <td>0.069494</td>\n",
       "    </tr>\n",
       "  </tbody>\n",
       "</table>\n",
       "</div>"
      ],
      "text/plain": [
       "    n_estimators  mean_mape\n",
       "17           180   0.069494"
      ]
     },
     "execution_count": 51,
     "metadata": {},
     "output_type": "execute_result"
    }
   ],
   "source": [
    "columns = ['n_estimators', 'mean_mape']\n",
    "df_scores = pd.DataFrame(scores, columns=columns)\n",
    "df_scores[df_scores['mean_mape']== df_scores['mean_mape'].min()]"
   ]
  },
  {
   "cell_type": "markdown",
   "id": "3662a4e2",
   "metadata": {},
   "source": [
    "We will choose **n_estimators= 180**"
   ]
  },
  {
   "cell_type": "markdown",
   "id": "ce0766c8",
   "metadata": {},
   "source": [
    "### Train model with new hyperparameters"
   ]
  },
  {
   "cell_type": "code",
   "execution_count": 52,
   "id": "c46cb029",
   "metadata": {},
   "outputs": [
    {
     "name": "stdout",
     "output_type": "stream",
     "text": [
      "0.069\n"
     ]
    }
   ],
   "source": [
    "xgb= XGBRegressor(n_estimators=180, max_depth=5, eta=0.2, random_state=42)\n",
    "xgb.fit(df_train, y_train)\n",
    "y_pred = xgb.predict(df_val)\n",
    "metric= mape_metric(y_val, y_pred)\n",
    "print('%.3f' % (metric))"
   ]
  },
  {
   "cell_type": "markdown",
   "id": "ffeafb8d",
   "metadata": {},
   "source": [
    "## Neural Network"
   ]
  },
  {
   "cell_type": "code",
   "execution_count": 53,
   "id": "0dacc3c7",
   "metadata": {},
   "outputs": [],
   "source": [
    "n_inputs = df_full_train[features].shape[1]\n",
    "n_outputs = df_full_train[targets].shape[1]\n",
    "loss = 'mape'\n",
    "\n",
    "def model_create(learning_rate=0.01, size_inner=128, drop_rate=0.2):\n",
    "    \n",
    "    optimizer = Adam(learning_rate=learning_rate)\n",
    "    \n",
    "    model = Sequential()\n",
    "    model.add(Dense(128, input_dim=n_inputs, kernel_initializer='he_uniform', activation='relu'))\n",
    "    model.add(Dropout(drop_rate))\n",
    "    model.add(Dense(size_inner, kernel_initializer='he_uniform', activation='relu'))\n",
    "    model.add(Dense(n_outputs))\n",
    "    model.compile(loss=loss, optimizer=optimizer)\n",
    "    \n",
    "    model.fit(df_train, y_train, verbose = 0, epochs=300)\n",
    "    \n",
    "    mape = model.evaluate(df_val, y_val, verbose=0) / 100\n",
    "    return mape"
   ]
  },
  {
   "cell_type": "code",
   "execution_count": 54,
   "id": "b04aa9df",
   "metadata": {},
   "outputs": [
    {
     "name": "stdout",
     "output_type": "stream",
     "text": [
      "0.156\n"
     ]
    }
   ],
   "source": [
    "mape=model_create()\n",
    "print('%.3f' % (mape))"
   ]
  },
  {
   "cell_type": "markdown",
   "id": "3ad75117",
   "metadata": {},
   "source": [
    "### Tuning learning rate"
   ]
  },
  {
   "cell_type": "code",
   "execution_count": 55,
   "id": "3364d549",
   "metadata": {},
   "outputs": [
    {
     "data": {
      "text/html": [
       "<div>\n",
       "<style scoped>\n",
       "    .dataframe tbody tr th:only-of-type {\n",
       "        vertical-align: middle;\n",
       "    }\n",
       "\n",
       "    .dataframe tbody tr th {\n",
       "        vertical-align: top;\n",
       "    }\n",
       "\n",
       "    .dataframe thead th {\n",
       "        text-align: right;\n",
       "    }\n",
       "</style>\n",
       "<table border=\"1\" class=\"dataframe\">\n",
       "  <thead>\n",
       "    <tr style=\"text-align: right;\">\n",
       "      <th></th>\n",
       "      <th>learning_rate</th>\n",
       "      <th>mape</th>\n",
       "    </tr>\n",
       "  </thead>\n",
       "  <tbody>\n",
       "    <tr>\n",
       "      <th>0</th>\n",
       "      <td>0.0001</td>\n",
       "      <td>0.421</td>\n",
       "    </tr>\n",
       "    <tr>\n",
       "      <th>1</th>\n",
       "      <td>0.0010</td>\n",
       "      <td>0.179</td>\n",
       "    </tr>\n",
       "    <tr>\n",
       "      <th>2</th>\n",
       "      <td>0.0100</td>\n",
       "      <td>0.150</td>\n",
       "    </tr>\n",
       "    <tr>\n",
       "      <th>3</th>\n",
       "      <td>0.1000</td>\n",
       "      <td>0.249</td>\n",
       "    </tr>\n",
       "  </tbody>\n",
       "</table>\n",
       "</div>"
      ],
      "text/plain": [
       "   learning_rate   mape\n",
       "0         0.0001  0.421\n",
       "1         0.0010  0.179\n",
       "2         0.0100  0.150\n",
       "3         0.1000  0.249"
      ]
     },
     "execution_count": 55,
     "metadata": {},
     "output_type": "execute_result"
    }
   ],
   "source": [
    "scores = []\n",
    "\n",
    "rate = [0.0001, 0.001, 0.01, 0.1]\n",
    "\n",
    "for learning_rate in rate:\n",
    "    mape = model_create(learning_rate=learning_rate)\n",
    "    scores.append((learning_rate, round(mape,3)))\n",
    "columns = ['learning_rate', 'mape']\n",
    "df_scores = pd.DataFrame(scores, columns=columns)\n",
    "df_scores"
   ]
  },
  {
   "cell_type": "markdown",
   "id": "489459eb",
   "metadata": {},
   "source": [
    "We will choose **learning_rate= 0.01**"
   ]
  },
  {
   "cell_type": "markdown",
   "id": "a5bda678",
   "metadata": {},
   "source": [
    "### Tuning drop_rate"
   ]
  },
  {
   "cell_type": "code",
   "execution_count": 56,
   "id": "58572c68",
   "metadata": {},
   "outputs": [
    {
     "data": {
      "text/html": [
       "<div>\n",
       "<style scoped>\n",
       "    .dataframe tbody tr th:only-of-type {\n",
       "        vertical-align: middle;\n",
       "    }\n",
       "\n",
       "    .dataframe tbody tr th {\n",
       "        vertical-align: top;\n",
       "    }\n",
       "\n",
       "    .dataframe thead th {\n",
       "        text-align: right;\n",
       "    }\n",
       "</style>\n",
       "<table border=\"1\" class=\"dataframe\">\n",
       "  <thead>\n",
       "    <tr style=\"text-align: right;\">\n",
       "      <th></th>\n",
       "      <th>drop_rate</th>\n",
       "      <th>mape</th>\n",
       "    </tr>\n",
       "  </thead>\n",
       "  <tbody>\n",
       "    <tr>\n",
       "      <th>0</th>\n",
       "      <td>0.1</td>\n",
       "      <td>0.149</td>\n",
       "    </tr>\n",
       "    <tr>\n",
       "      <th>1</th>\n",
       "      <td>0.2</td>\n",
       "      <td>0.137</td>\n",
       "    </tr>\n",
       "    <tr>\n",
       "      <th>2</th>\n",
       "      <td>0.4</td>\n",
       "      <td>0.216</td>\n",
       "    </tr>\n",
       "    <tr>\n",
       "      <th>3</th>\n",
       "      <td>0.6</td>\n",
       "      <td>0.253</td>\n",
       "    </tr>\n",
       "    <tr>\n",
       "      <th>4</th>\n",
       "      <td>0.8</td>\n",
       "      <td>0.235</td>\n",
       "    </tr>\n",
       "  </tbody>\n",
       "</table>\n",
       "</div>"
      ],
      "text/plain": [
       "   drop_rate   mape\n",
       "0        0.1  0.149\n",
       "1        0.2  0.137\n",
       "2        0.4  0.216\n",
       "3        0.6  0.253\n",
       "4        0.8  0.235"
      ]
     },
     "execution_count": 56,
     "metadata": {},
     "output_type": "execute_result"
    }
   ],
   "source": [
    "scores=[]\n",
    "\n",
    "d_rate = [0.1, 0.2, 0.4, 0.6, 0.8]\n",
    "\n",
    "for dr in d_rate:\n",
    "    mape = model_create(learning_rate=0.01, drop_rate= dr)\n",
    "    scores.append((dr, round(mape,3)))\n",
    "columns = ['drop_rate', 'mape']\n",
    "df_scores = pd.DataFrame(scores, columns=columns)\n",
    "df_scores"
   ]
  },
  {
   "cell_type": "markdown",
   "id": "a504f45e",
   "metadata": {},
   "source": [
    "We will choose **drop_rate= 0.2**"
   ]
  },
  {
   "cell_type": "markdown",
   "id": "b7d0b927",
   "metadata": {},
   "source": [
    "### Tuning size inner"
   ]
  },
  {
   "cell_type": "code",
   "execution_count": 57,
   "id": "57f2d3c9",
   "metadata": {},
   "outputs": [
    {
     "data": {
      "text/html": [
       "<div>\n",
       "<style scoped>\n",
       "    .dataframe tbody tr th:only-of-type {\n",
       "        vertical-align: middle;\n",
       "    }\n",
       "\n",
       "    .dataframe tbody tr th {\n",
       "        vertical-align: top;\n",
       "    }\n",
       "\n",
       "    .dataframe thead th {\n",
       "        text-align: right;\n",
       "    }\n",
       "</style>\n",
       "<table border=\"1\" class=\"dataframe\">\n",
       "  <thead>\n",
       "    <tr style=\"text-align: right;\">\n",
       "      <th></th>\n",
       "      <th>size_inner</th>\n",
       "      <th>mape</th>\n",
       "    </tr>\n",
       "  </thead>\n",
       "  <tbody>\n",
       "    <tr>\n",
       "      <th>0</th>\n",
       "      <td>8</td>\n",
       "      <td>0.191</td>\n",
       "    </tr>\n",
       "    <tr>\n",
       "      <th>1</th>\n",
       "      <td>16</td>\n",
       "      <td>0.165</td>\n",
       "    </tr>\n",
       "    <tr>\n",
       "      <th>2</th>\n",
       "      <td>32</td>\n",
       "      <td>0.152</td>\n",
       "    </tr>\n",
       "    <tr>\n",
       "      <th>3</th>\n",
       "      <td>64</td>\n",
       "      <td>0.162</td>\n",
       "    </tr>\n",
       "    <tr>\n",
       "      <th>4</th>\n",
       "      <td>128</td>\n",
       "      <td>0.158</td>\n",
       "    </tr>\n",
       "  </tbody>\n",
       "</table>\n",
       "</div>"
      ],
      "text/plain": [
       "   size_inner   mape\n",
       "0           8  0.191\n",
       "1          16  0.165\n",
       "2          32  0.152\n",
       "3          64  0.162\n",
       "4         128  0.158"
      ]
     },
     "execution_count": 57,
     "metadata": {},
     "output_type": "execute_result"
    }
   ],
   "source": [
    "scores = []\n",
    "\n",
    "sizes = [8, 16, 32, 64, 128]\n",
    "\n",
    "for s in sizes:\n",
    "    mape = model_create(learning_rate=0.01, drop_rate= 0.2, size_inner=s)\n",
    "    scores.append((s, round(mape,3)))\n",
    "columns = ['size_inner', 'mape']\n",
    "df_scores = pd.DataFrame(scores, columns=columns)\n",
    "df_scores"
   ]
  },
  {
   "cell_type": "markdown",
   "id": "e3154fca",
   "metadata": {},
   "source": [
    "We will choose **size_inner=32**"
   ]
  },
  {
   "cell_type": "markdown",
   "id": "b9f01539",
   "metadata": {},
   "source": [
    "### Train model with new hyperparameters"
   ]
  },
  {
   "cell_type": "code",
   "execution_count": 58,
   "id": "e05211af",
   "metadata": {},
   "outputs": [
    {
     "name": "stdout",
     "output_type": "stream",
     "text": [
      "0.160\n"
     ]
    }
   ],
   "source": [
    "mape=model_create(learning_rate=0.01, drop_rate= 0.2, size_inner=32)\n",
    "print('%.3f' % (mape))"
   ]
  },
  {
   "cell_type": "markdown",
   "id": "d816b940",
   "metadata": {},
   "source": [
    "# Choose Final Model\n",
    "\n",
    "To choose the final model, we will train the tuned models with data from df_full_train and evaluate their performance with df_test"
   ]
  },
  {
   "cell_type": "code",
   "execution_count": 59,
   "id": "a64452be",
   "metadata": {},
   "outputs": [],
   "source": [
    "df_full_train = df_full_train.reset_index(drop=True)\n",
    "y_full_train = df_full_train[targets].values\n",
    "df_full_train.drop(targets, axis=1, inplace=True)"
   ]
  },
  {
   "cell_type": "markdown",
   "id": "59a5d758",
   "metadata": {},
   "source": [
    "## Random Forest"
   ]
  },
  {
   "cell_type": "code",
   "execution_count": 60,
   "id": "edf10afc",
   "metadata": {},
   "outputs": [
    {
     "name": "stdout",
     "output_type": "stream",
     "text": [
      "0.064\n"
     ]
    }
   ],
   "source": [
    "rfr = RandomForestRegressor(n_estimators=120, max_depth=15, min_samples_leaf=1, random_state=42)\n",
    "rfr.fit(df_full_train, y_full_train)\n",
    "y_pred = rfr.predict(df_test)\n",
    "metric= mape_metric(y_test, y_pred)\n",
    "print('%.3f' % (metric))"
   ]
  },
  {
   "cell_type": "markdown",
   "id": "4262a4cd",
   "metadata": {},
   "source": [
    "## XGBoost"
   ]
  },
  {
   "cell_type": "code",
   "execution_count": 61,
   "id": "4defe271",
   "metadata": {},
   "outputs": [
    {
     "name": "stdout",
     "output_type": "stream",
     "text": [
      "0.052\n"
     ]
    }
   ],
   "source": [
    "xgb= XGBRegressor(n_estimators=180, max_depth=5, eta=0.2, random_state=42)\n",
    "xgb.fit(df_full_train, y_full_train)\n",
    "y_pred = xgb.predict(df_test)\n",
    "metric= mape_metric(y_test, y_pred)\n",
    "print('%.3f' % (metric))"
   ]
  },
  {
   "cell_type": "code",
   "execution_count": 62,
   "id": "3eeb2ee8",
   "metadata": {},
   "outputs": [
    {
     "name": "stdout",
     "output_type": "stream",
     "text": [
      "0.136\n"
     ]
    }
   ],
   "source": [
    "n_inputs = df_full_train.shape[1]\n",
    "n_outputs = y_full_train.shape[1]\n",
    "loss = 'mape'\n",
    "\n",
    "learn_rate= 0.01\n",
    "drop_rate= 0.2\n",
    "size_inner= 32\n",
    "\n",
    "optimizer = Adam(learning_rate=learn_rate)\n",
    "    \n",
    "model = Sequential()\n",
    "model.add(Dense(128, input_dim=n_inputs, kernel_initializer='he_uniform', activation='relu'))\n",
    "model.add(Dropout(drop_rate))\n",
    "model.add(Dense(size_inner, kernel_initializer='he_uniform', activation='relu'))\n",
    "model.add(Dense(n_outputs))\n",
    "model.compile(loss=loss, optimizer=optimizer)\n",
    "    \n",
    "model.fit(df_full_train, y_full_train, verbose = 0, epochs=300)\n",
    "mape = model.evaluate(df_test, y_test, verbose=0) / 100\n",
    "print('%.3f' % (mape))"
   ]
  },
  {
   "cell_type": "markdown",
   "id": "a4bd58da",
   "metadata": {},
   "source": [
    "#### The best performing model is XGBoost Regressor (n_estimators = 180, max_depth = 5, eta = 0.2).\n",
    "\n",
    "#### This model has a MAPE metric= 0.052 which is the lowest of the trained models.\n",
    "\n",
    "#### We choose this model to deploy."
   ]
  },
  {
   "cell_type": "code",
   "execution_count": null,
   "id": "7cb96e10",
   "metadata": {},
   "outputs": [],
   "source": []
  }
 ],
 "metadata": {
  "kernelspec": {
   "display_name": "Python [conda env:eydata] *",
   "language": "python",
   "name": "conda-env-eydata-py"
  },
  "language_info": {
   "codemirror_mode": {
    "name": "ipython",
    "version": 3
   },
   "file_extension": ".py",
   "mimetype": "text/x-python",
   "name": "python",
   "nbconvert_exporter": "python",
   "pygments_lexer": "ipython3",
   "version": "3.8.12"
  }
 },
 "nbformat": 4,
 "nbformat_minor": 5
}
